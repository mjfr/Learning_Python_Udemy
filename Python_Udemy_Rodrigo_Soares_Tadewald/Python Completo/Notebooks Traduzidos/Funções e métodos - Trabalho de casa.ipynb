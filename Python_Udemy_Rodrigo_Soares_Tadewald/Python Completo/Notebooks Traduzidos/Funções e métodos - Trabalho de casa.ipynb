{
 "cells": [
  {
   "cell_type": "markdown",
   "metadata": {},
   "source": [
    "# Funções e métodos - Trabalho de casa\n",
    "\n",
    "Responda as seguintes perguntas:\n",
    "____\n",
    "**Escreva uma função que calcula o volume de uma esfera dado seu raio.**"
   ]
  },
  {
   "cell_type": "code",
   "execution_count": 314,
   "metadata": {
    "collapsed": true
   },
   "outputs": [
    {
     "output_type": "stream",
     "name": "stdout",
     "text": "4.1866666666666665\n"
    }
   ],
   "source": [
    "def vol(rad):\n",
    "    return print((4/3) * 3.14 * (rad ** 3))\n",
    "vol(1)"
   ]
  },
  {
   "cell_type": "markdown",
   "metadata": {},
   "source": [
    "**Escreva uma função que verifica se um número está em um determinado intervalo (inclusive o máximo e mínimo)**"
   ]
  },
  {
   "cell_type": "code",
   "execution_count": 315,
   "metadata": {
    "collapsed": true
   },
   "outputs": [
    {
     "output_type": "stream",
     "name": "stdout",
     "text": "Fora do intervalo\n"
    }
   ],
   "source": [
    "def ran_check(num,low,high):\n",
    "    if num > low and num < high:\n",
    "        print('Dentro do intervalo')\n",
    "    else:\n",
    "        print('Fora do intervalo')\n",
    "ran_check(5, 1, 5)"
   ]
  },
  {
   "cell_type": "code",
   "execution_count": null,
   "metadata": {},
   "outputs": [],
   "source": [
    "#Resposta do professor, aparentemente dá o mesmo resultado\n",
    "def ran_check_professor(num, low, high):\n",
    "    if num in list(range(low, high + 1)):\n",
    "        return True\n",
    "    else:\n",
    "        return False"
   ]
  },
  {
   "cell_type": "markdown",
   "metadata": {},
   "source": [
    "Se você quisesse apenas retornar um booleano:"
   ]
  },
  {
   "cell_type": "code",
   "execution_count": 10,
   "metadata": {
    "collapsed": true
   },
   "outputs": [],
   "source": [
    "def ran_bool(num,low,high):\n",
    "    if num > low and num < high:\n",
    "        return True\n",
    "    else:\n",
    "        return False"
   ]
  },
  {
   "cell_type": "code",
   "execution_count": 317,
   "metadata": {},
   "outputs": [
    {
     "output_type": "execute_result",
     "data": {
      "text/plain": "True"
     },
     "metadata": {},
     "execution_count": 317
    }
   ],
   "source": [
    "ran_bool(3,1,10)"
   ]
  },
  {
   "cell_type": "markdown",
   "metadata": {},
   "source": [
    "** Escreva uma função Python que aceita uma string e calcule o número de maiúsculas e minúsculas. **\n",
    "\n",
    "     Exemplo de Cadeia: 'Olá Sr. Rogers, como você está bem, terça-feira?'\n",
    "     Saída esperada:\n",
    "     Número de caracteres maiúsculas: 3\n",
    "     Número de caracteres minúsculos: 34\n",
    "\n",
    "Se você se sentir ambicioso, explore o módulo de Coleções para resolver esse problema!"
   ]
  },
  {
   "cell_type": "code",
   "execution_count": 60,
   "metadata": {
    "collapsed": true
   },
   "outputs": [
    {
     "output_type": "stream",
     "name": "stdout",
     "text": "Número de caracteres maiúsculas: 3\nNúmero de caracteres minúsculos: 37\n"
    }
   ],
   "source": [
    "def up_low(s):\n",
    "    counter = 0\n",
    "    for word in s.split():\n",
    "        if word[0].isupper():\n",
    "            counter += 1\n",
    "    return print('Número de caracteres maiúsculas: ' + str(counter) + '\\nNúmero de caracteres minúsculos (contando com caracteres não numéricos): ' + str(len(s) - counter - len(s.split(' '))))\n",
    "up_low('Olá Sr. Rogers, como você está bem, terça-feira?')"
   ]
  },
  {
   "cell_type": "code",
   "execution_count": 321,
   "metadata": {},
   "outputs": [
    {
     "output_type": "stream",
     "name": "stdout",
     "text": "Número de caracteres maiúsculas: 3      Número de caracteres minúsculos: 33\n"
    }
   ],
   "source": [
    "#Resposta do professor\n",
    "def up_low_professor(s):\n",
    "    up = 0\n",
    "    low = 0\n",
    "    for i in s:\n",
    "        if i.isupper():\n",
    "            up += 1\n",
    "        elif i.islower():\n",
    "            low += 1\n",
    "        else:\n",
    "            continue\n",
    "    print('Número de caracteres maiúsculas: ' + str(up) + '      Número de caracteres minúsculos: ' + str(low))\n",
    "up_low_professor('Olá Sr. Rogers, como você está bem, terça-feira?')"
   ]
  },
  {
   "cell_type": "markdown",
   "metadata": {},
   "source": [
    "** Escreva uma função Python que recebe uma lista e retorna uma nova lista com elementos exclusivos da primeira lista. **\n",
    "\n",
    "     Lista de Amostras: [1,1,1,1,2,2,3,3,3,3,4,5]\n",
    "     Lista única: [1, 2, 3, 4, 5]"
   ]
  },
  {
   "cell_type": "code",
   "execution_count": 63,
   "metadata": {
    "collapsed": true
   },
   "outputs": [],
   "source": [
    "def unique_list(l):\n",
    "    return print(list(set(l)))"
   ]
  },
  {
   "cell_type": "code",
   "execution_count": 64,
   "metadata": {},
   "outputs": [
    {
     "output_type": "stream",
     "name": "stdout",
     "text": "[1, 2, 3, 4, 5]\n"
    }
   ],
   "source": [
    "unique_list([1,1,1,1,2,2,3,3,3,3,4,5])"
   ]
  },
  {
   "cell_type": "markdown",
   "metadata": {},
   "source": [
    "** Escreva uma função Python para multiplicar todos os números em uma lista. **\n",
    "\n",
    "     Lista de exemplos: [1, 2, 3, -4]\n",
    "     Saída esperada: -24"
   ]
  },
  {
   "cell_type": "code",
   "execution_count": 329,
   "metadata": {
    "collapsed": true
   },
   "outputs": [],
   "source": [
    "def multiply(numbers):\n",
    "    x = 0\n",
    "    multiplicacao = 1\n",
    "    for i in numbers:\n",
    "        multiplicacao *= numbers[x]\n",
    "        if x <= len(numbers):\n",
    "            x += 1\n",
    "        else:\n",
    "            x = len(numbers)\n",
    "    return(print(multiplicacao))"
   ]
  },
  {
   "cell_type": "code",
   "execution_count": 331,
   "metadata": {},
   "outputs": [
    {
     "output_type": "stream",
     "name": "stdout",
     "text": "-24\n"
    }
   ],
   "source": [
    "#Resposta do professor\n",
    "def multiply_professor(numbers):\n",
    "    total = 1\n",
    "    for i in numbers:\n",
    "        total *= i\n",
    "    return print(total)\n",
    "multiply_professor([1,2,3,-4])"
   ]
  },
  {
   "cell_type": "code",
   "execution_count": 330,
   "metadata": {},
   "outputs": [
    {
     "output_type": "stream",
     "name": "stdout",
     "text": "-24\n"
    }
   ],
   "source": [
    "multiply([1,2,3,-4])"
   ]
  },
  {
   "cell_type": "markdown",
   "metadata": {},
   "source": [
    "** Escreva uma função Python que verifica se uma string passada é palindrome ou não. **\n",
    "\n",
    "Nota: Um palíndromo é palavra, frase ou seqüência que lê o mesmo para trás."
   ]
  },
  {
   "cell_type": "code",
   "execution_count": 332,
   "metadata": {
    "collapsed": true
   },
   "outputs": [],
   "source": [
    "def palindrome(s):\n",
    "    if s == s[::-1]:\n",
    "        print('Palíndrome')\n",
    "    else:\n",
    "        print('Não é palíndrome')"
   ]
  },
  {
   "cell_type": "code",
   "execution_count": null,
   "metadata": {},
   "outputs": [],
   "source": [
    "#Resposta do professor\n",
    "def palindrome_professor(s):\n",
    "    s = s.replace(' ', '')\n",
    "    if s == s[::-1]:\n",
    "        print('Palíndrome')\n",
    "    else:\n",
    "        print('Não é palíndrome')"
   ]
  },
  {
   "cell_type": "code",
   "execution_count": 333,
   "metadata": {},
   "outputs": [
    {
     "output_type": "stream",
     "name": "stdout",
     "text": "Palíndrome\n"
    }
   ],
   "source": [
    "palindrome('helleh')"
   ]
  },
  {
   "cell_type": "markdown",
   "metadata": {},
   "source": [
    "**Difícil**:\n",
    "\n",
    "Escreva uma função Python para verificar se uma string é um pangrama ou não.\n",
    "\n",
    "     Nota: Pangramas são palavras ou frases contendo cada letra do alfabeto pelo menos uma vez.\n",
    "\n",
    "Dica: veja o módulo de strings"
   ]
  },
  {
   "cell_type": "code",
   "execution_count": 237,
   "metadata": {
    "collapsed": true
   },
   "outputs": [],
   "source": [
    "import string\n",
    "\n",
    "def ispangram(str1, alphabet=string.ascii_lowercase):  \n",
    "    string1 = set(str1.lower())\n",
    "    if len(string1) + -1 == len(set(alphabet)):\n",
    "        print('É pangrama')\n",
    "    else:\n",
    "        print('Não é pangrama')"
   ]
  },
  {
   "cell_type": "code",
   "execution_count": 337,
   "metadata": {},
   "outputs": [
    {
     "output_type": "execute_result",
     "data": {
      "text/plain": "True"
     },
     "metadata": {},
     "execution_count": 337
    }
   ],
   "source": [
    "#Resposta do professor\n",
    "import string\n",
    "def ispangram_professor(str1, alphabet=string.ascii_lowercase):\n",
    "    num = len(alphabet)\n",
    "    count = 0\n",
    "    for i in alphabet:\n",
    "        if i in str1:\n",
    "            count += 1\n",
    "    return count == num\n",
    "ispangram_professor(\"The quick brown fox jumps over the lazy dog\")"
   ]
  },
  {
   "cell_type": "code",
   "execution_count": 238,
   "metadata": {},
   "outputs": [
    {
     "output_type": "stream",
     "name": "stdout",
     "text": "É pangrama\n"
    }
   ],
   "source": [
    "ispangram(\"The quick brown fox jumps over the lazy dog\")"
   ]
  },
  {
   "cell_type": "code",
   "execution_count": 239,
   "metadata": {},
   "outputs": [
    {
     "output_type": "execute_result",
     "data": {
      "text/plain": "'abcdefghijklmnopqrstuvwxyz'"
     },
     "metadata": {},
     "execution_count": 239
    }
   ],
   "source": [
    "string.ascii_lowercase"
   ]
  },
  {
   "cell_type": "code",
   "execution_count": null,
   "metadata": {},
   "outputs": [],
   "source": []
  }
 ],
 "metadata": {
  "kernelspec": {
   "display_name": "Python 3",
   "language": "python",
   "name": "python3"
  },
  "language_info": {
   "codemirror_mode": {
    "name": "ipython",
    "version": 3
   },
   "file_extension": ".py",
   "mimetype": "text/x-python",
   "name": "python",
   "nbconvert_exporter": "python",
   "pygments_lexer": "ipython3",
   "version": "3.8.1-final"
  }
 },
 "nbformat": 4,
 "nbformat_minor": 1
}